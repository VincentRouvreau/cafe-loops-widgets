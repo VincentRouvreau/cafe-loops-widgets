{
 "cells": [
  {
   "cell_type": "markdown",
   "metadata": {},
   "source": [
    "# ipycanvas: Interactive Canvas\n",
    "\n",
    "## https://github.com/martinRenou/ipycanvas\n",
    "\n",
    "Interactive widgets library exposing the browser's Canvas API\n",
    "\n",
    "- BSD 3-Clause Licensed\n",
    "\n",
    "**Installation:**\n",
    "\n",
    "```bash\n",
    "conda install -c conda-forge ipycanvas\n",
    "```\n",
    "\n",
    "or\n",
    "\n",
    "```bash\n",
    "mamba install -c conda-forge ipycanvas\n",
    "```"
   ]
  },
  {
   "cell_type": "code",
   "execution_count": null,
   "metadata": {},
   "outputs": [],
   "source": [
    "from math import pi\n",
    "\n",
    "import ipycanvas"
   ]
  },
  {
   "cell_type": "code",
   "execution_count": null,
   "metadata": {},
   "outputs": [],
   "source": [
    "c = ipycanvas.Canvas(size=(200, 200))\n",
    "\n",
    "c"
   ]
  },
  {
   "cell_type": "code",
   "execution_count": null,
   "metadata": {},
   "outputs": [],
   "source": [
    "# Draw simple triangle shape\n",
    "c.begin_path()\n",
    "c.move_to(75, 50)\n",
    "c.line_to(100, 75)\n",
    "c.line_to(100, 25)\n",
    "c.fill()"
   ]
  },
  {
   "cell_type": "code",
   "execution_count": null,
   "metadata": {},
   "outputs": [],
   "source": [
    "c = ipycanvas.Canvas(stroke_style='red', size=(200, 200))\n",
    "\n",
    "# Draw smiley face\n",
    "c.begin_path()\n",
    "c.arc(75, 75, 50, 0, pi * 2, True) # Outer circle\n",
    "c.move_to(110, 75)\n",
    "c.arc(75, 75, 35, 0, pi, False) # Mouth (clockwise)\n",
    "c.move_to(65, 65)\n",
    "c.arc(60, 65, 5, 0, pi * 2, True) # Left eye\n",
    "c.move_to(95, 65)\n",
    "c.arc(90, 65, 5, 0, pi * 2, True) # Right eye\n",
    "c.stroke()\n",
    "\n",
    "c"
   ]
  },
  {
   "cell_type": "code",
   "execution_count": null,
   "metadata": {},
   "outputs": [],
   "source": [
    "c"
   ]
  },
  {
   "cell_type": "code",
   "execution_count": null,
   "metadata": {},
   "outputs": [],
   "source": [
    "c = ipycanvas.Canvas(size=(200, 200))\n",
    "\n",
    "# Draw bubble\n",
    "c.begin_path()\n",
    "c.move_to(75, 25)\n",
    "c.quadratic_curve_to(25, 25, 25, 62.5)\n",
    "c.quadratic_curve_to(25, 100, 50, 100)\n",
    "c.quadratic_curve_to(50, 120, 30, 125)\n",
    "c.quadratic_curve_to(60, 120, 65, 100)\n",
    "c.quadratic_curve_to(125, 100, 125, 62.5)\n",
    "c.quadratic_curve_to(125, 25, 75, 25)\n",
    "c.stroke()\n",
    "\n",
    "c"
   ]
  },
  {
   "cell_type": "code",
   "execution_count": null,
   "metadata": {},
   "outputs": [],
   "source": [
    "def rounded_rect(c, x, y, width, height, radius):\n",
    "    c.begin_path()\n",
    "    c.move_to(x, y + radius)\n",
    "    c.line_to(x, y + height - radius)\n",
    "    c.arc_to(x, y + height, x + radius, y + height, radius)\n",
    "    c.line_to(x + width - radius, y + height)\n",
    "    c.arc_to(x + width, y + height, x + width, y + height - radius, radius)\n",
    "    c.line_to(x + width, y + radius)\n",
    "    c.arc_to(x + width, y, x + width - radius, y, radius)\n",
    "    c.line_to(x + radius, y)\n",
    "    c.arc_to(x, y, x, y + radius, radius)\n",
    "    c.stroke()"
   ]
  },
  {
   "cell_type": "code",
   "execution_count": null,
   "metadata": {},
   "outputs": [],
   "source": [
    "c = ipycanvas.Canvas(size=(150, 150))\n",
    "\n",
    "rounded_rect(c, 12, 12, 150, 150, 15)\n",
    "rounded_rect(c, 19, 19, 150, 150, 9)\n",
    "rounded_rect(c, 53, 53, 49, 33, 10)\n",
    "rounded_rect(c, 53, 119, 49, 16, 6)\n",
    "rounded_rect(c, 135, 53, 49, 33, 10)\n",
    "rounded_rect(c, 135, 119, 25, 49, 10)\n",
    "\n",
    "c.begin_path()\n",
    "c.arc(37, 37, 13, pi / 7, -pi / 7, False)\n",
    "c.line_to(31, 37)\n",
    "c.fill()\n",
    "\n",
    "for i in range(8):\n",
    "    c.fill_rect(51 + i * 16, 35, 4, 4)\n",
    "\n",
    "for i in range(6):\n",
    "    c.fill_rect(115, 51 + i * 16, 4, 4)\n",
    "\n",
    "for i in range(8):\n",
    "    c.fill_rect(51 + i * 16, 99, 4, 4)\n",
    "\n",
    "c.begin_path()\n",
    "c.move_to(83, 116)\n",
    "c.line_to(83, 102)\n",
    "c.bezier_curve_to(83, 94, 89, 88, 97, 88)\n",
    "c.bezier_curve_to(105, 88, 111, 94, 111, 102)\n",
    "c.line_to(111, 116)\n",
    "c.line_to(106.333, 111.333)\n",
    "c.line_to(101.666, 116)\n",
    "c.line_to(97, 111.333)\n",
    "c.line_to(92.333, 116)\n",
    "c.line_to(87.666, 111.333)\n",
    "c.line_to(83, 116)\n",
    "c.fill()\n",
    "\n",
    "c.fill_style = 'white'\n",
    "c.begin_path()\n",
    "c.move_to(91, 96)\n",
    "c.bezier_curve_to(88, 96, 87, 99, 87, 101)\n",
    "c.bezier_curve_to(87, 103, 88, 106, 91, 106)\n",
    "c.bezier_curve_to(94, 106, 95, 103, 95, 101)\n",
    "c.bezier_curve_to(95, 99, 94, 96, 91, 96)\n",
    "c.move_to(103, 96)\n",
    "c.bezier_curve_to(100, 96, 99, 99, 99, 101)\n",
    "c.bezier_curve_to(99, 103, 100, 106, 103, 106)\n",
    "c.bezier_curve_to(106, 106, 107, 103, 107, 101)\n",
    "c.bezier_curve_to(107, 99, 106, 96, 103, 96)\n",
    "c.fill()\n",
    "\n",
    "c.fill_style = 'black'\n",
    "c.begin_path()\n",
    "c.arc(101, 102, 2, 0, pi * 2, True)\n",
    "c.fill()\n",
    "\n",
    "c.begin_path()\n",
    "c.arc(89, 102, 2, 0, pi * 2, True)\n",
    "c.fill()\n",
    "\n",
    "c"
   ]
  },
  {
   "cell_type": "markdown",
   "metadata": {},
   "source": [
    "# Interaction during ipycanvas Animations\n",
    "\n",
    "It can be fun to modify animations as they run, but reacting to user input during a standard animation loop can be difficult. This notebook shows one way to get around this by having the animation loop run in a separate thread."
   ]
  },
  {
   "cell_type": "code",
   "execution_count": null,
   "metadata": {},
   "outputs": [],
   "source": [
    "import numpy as np\n",
    "from time import sleep\n",
    "from threading import Event, Thread\n",
    "from ipycanvas import Canvas, hold_canvas\n",
    "from ipywidgets import Label, HTML, Button, HBox"
   ]
  },
  {
   "cell_type": "markdown",
   "metadata": {},
   "source": [
    "For this example, we will simulate a number of particles, re-drawing them all each frame with the `fill_rects` function. "
   ]
  },
  {
   "cell_type": "code",
   "execution_count": null,
   "metadata": {},
   "outputs": [],
   "source": [
    "#Create our particles\n",
    "n_particles = 4100\n",
    "x = np.array(np.random.rayleigh(250, n_particles))\n",
    "y = np.array(np.random.rayleigh(250, n_particles))\n",
    "size = np.random.randint(1, 3, n_particles)"
   ]
  },
  {
   "cell_type": "code",
   "execution_count": null,
   "metadata": {},
   "outputs": [],
   "source": [
    "# Create the canvas\n",
    "canvas = Canvas(width=500, height=200)"
   ]
  },
  {
   "cell_type": "code",
   "execution_count": null,
   "metadata": {},
   "outputs": [],
   "source": [
    "# Some useful functions that will be used in our animation loop:\n",
    "\n",
    "# Draw the particles to the canvas\n",
    "def draw_particles():\n",
    "    with hold_canvas(canvas):\n",
    "        canvas.clear() # Clear the old animation step       \n",
    "        canvas.fill_style = 'green' \n",
    "        canvas.fill_rects(x, y, size) # Draw the new frame \n",
    "\n",
    "# Calculate new locations for the particles\n",
    "def update_particle_locations():\n",
    "    global x, y\n",
    "    x = (x+1)%500\n",
    "    y = (y +np.cos(x/100))%200"
   ]
  },
  {
   "cell_type": "markdown",
   "metadata": {},
   "source": [
    "The key goal here is to enable interactivity. In this case this is done by creating a function that adds some new particles around a location, and setting this function as a callback that will be called when we click on the canvas."
   ]
  },
  {
   "cell_type": "code",
   "execution_count": null,
   "metadata": {},
   "outputs": [],
   "source": [
    "def handle_mouse_down(xpos, ypos):\n",
    "    global x, y\n",
    "    x_new = np.array(np.random.rayleigh(30, 100))+xpos-15\n",
    "    y_new = np.array(np.random.rayleigh(30, 100))+ypos-15\n",
    "    x = np.concatenate([x[-4000:], x_new])\n",
    "    y = np.concatenate([y[-4000:], y_new])\n",
    "    size = np.random.randint(1, 3, len(x))\n",
    "    draw_particles()\n",
    "\n",
    "# Register mouse click callback\n",
    "canvas.on_mouse_down(handle_mouse_down)"
   ]
  },
  {
   "cell_type": "markdown",
   "metadata": {},
   "source": [
    "With the setup out of the way, we can draw the first frame to the canvas and display it. Try clicking on the canvas to see the `handle_mouse_down` function's effect."
   ]
  },
  {
   "cell_type": "code",
   "execution_count": null,
   "metadata": {},
   "outputs": [],
   "source": [
    "draw_particles() # Running once to draw the first frame\n",
    "display(canvas)"
   ]
  },
  {
   "cell_type": "markdown",
   "metadata": {},
   "source": [
    "We get 'interactivity' as hoped - every click results in some new particles being added at that location. However, the issue comes when we try to interact while animating. Run the following loop and try to click on the canvas as it runs:"
   ]
  },
  {
   "cell_type": "code",
   "execution_count": null,
   "metadata": {},
   "outputs": [],
   "source": [
    "for i in range(200):\n",
    "    update_particle_locations()\n",
    "    draw_particles()\n",
    "    sleep(0.02)"
   ]
  },
  {
   "cell_type": "markdown",
   "metadata": {},
   "source": [
    "Nothing happens in response to clicks while the animation is running. It is only once the loop finishes that we see flash of activity as some of the callbacks are belatedly run all at once. Now run the following cell and try interacting again:"
   ]
  },
  {
   "cell_type": "code",
   "execution_count": null,
   "metadata": {},
   "outputs": [],
   "source": [
    "stopped = Event()\n",
    "def loop():\n",
    "    while not stopped.wait(0.02): # 0.02 secs -> ~50fps\n",
    "        update_particle_locations()\n",
    "        draw_particles()\n",
    "Thread(target=loop).start()  "
   ]
  },
  {
   "cell_type": "markdown",
   "metadata": {},
   "source": [
    "And to stop the animation:"
   ]
  },
  {
   "cell_type": "code",
   "execution_count": null,
   "metadata": {},
   "outputs": [],
   "source": [
    "stopped.set()"
   ]
  },
  {
   "cell_type": "markdown",
   "metadata": {},
   "source": [
    "### Explanation\n",
    "\n",
    "In the first animation attempt, everything is running in a single thread. This means we cannot run callbacks (or any other code for that matter) while the animation loop runs. To fix this, we create and run a new Thread to run the animation loop (`Thread(target=loop).start() `). This frees the main thread to do other things, such as handle interaction. \n",
    "\n",
    "An `Event` has `set` and `clear` methods that allow for safe communication between threads. In this case our `loop` function that is running in its own thread will terminate if we run `stopped.set()`, allowing us to stop the animation. "
   ]
  },
  {
   "cell_type": "markdown",
   "metadata": {},
   "source": [
    "# Worked Example\n",
    "\n",
    "For this example, as before, we will be updating some particles and adding new ones on mouse clicks. We use perlin noise to determine particle direction. The following cell results in a `perlin` function that takes in an x, y coordinate and returns a value - see [here](https://johnowhitaker.github.io/days_of_code/Playing_with_Perlin.html) for a more readable implementation."
   ]
  },
  {
   "cell_type": "code",
   "execution_count": null,
   "metadata": {},
   "outputs": [],
   "source": [
    "# Quick and dirty perlin noise function\n",
    "def dgg(ix, iy, x, y):\n",
    "    random = 2920 * np.sin(ix * 21942 + iy * 171324 + 8912) * np.cos(ix * 23157 * iy * 217832 + 9758)\n",
    "    return ((x - ix)*np.cos(random) + (y - iy)*np.sin(random));\n",
    "def perlin(x,y):\n",
    "    x0, y0 = np.array(x).astype(int),np.array(y).astype(int)\n",
    "    n0, n1 = dgg(x0, y0, x, y), dgg((x0 + 1), y0, x, y)\n",
    "    ix0 = (n1 - n0) * (x - x0) + n0\n",
    "    n0, n1 = dgg(x0, (y0 + 1), x, y), dgg((x0 + 1), (y0 + 1), x, y)\n",
    "    return (((n1 - n0) * (x - x0) + n0) - ix0) * (y-y0) + ix0\n",
    "perlin(0.3, 0.2) # Given x and y coords it generates a value"
   ]
  },
  {
   "cell_type": "markdown",
   "metadata": {},
   "source": [
    "Now, as before, we set up our initial particle locations, define functions to update their positions (this time based on the perlin function) and to draw the particles to the canvas, register a callback to handle mouse clicks and start an animation thread. In addition, we add buttons to stop the animation, to restart it and to randomize the particle locations. Notice that when the start button is clicked it checks that the thread is not already running - removing this check will allow you to start several threads, all updating the animation, which results in a higher and higher framerate."
   ]
  },
  {
   "cell_type": "code",
   "execution_count": null,
   "metadata": {},
   "outputs": [],
   "source": [
    "# Setting up the canvas\n",
    "canvas2 = Canvas(width=500, height=500) \n",
    "\n",
    "#Some particles (as before)\n",
    "n_particles = 4100\n",
    "x = np.array(np.random.rayleigh(250, n_particles))\n",
    "y = np.array(np.random.rayleigh(250, n_particles))\n",
    "size = np.random.randint(1, 3, n_particles)\n",
    "\n",
    "\n",
    "def handle_mouse_down(xpos, ypos):\n",
    "    global x, y\n",
    "    x_new = np.array(np.random.rayleigh(30, 100))+xpos-15\n",
    "    y_new = np.array(np.random.rayleigh(30, 100))+ypos-15\n",
    "    x = np.concatenate([x[-4000:], x_new])\n",
    "    y = np.concatenate([y[-4000:], y_new])\n",
    "    size = np.random.randint(1, 3, len(x))\n",
    "    draw_particles()\n",
    "\n",
    "# Register mouse click callback\n",
    "canvas2.on_mouse_down(handle_mouse_down)\n",
    "\n",
    "def draw_particles():\n",
    "    with hold_canvas(canvas2):\n",
    "        canvas2.clear() # Clear the old animation step       \n",
    "        canvas2.fill_style = 'green' \n",
    "        canvas2.fill_rects(x, y, size) # Draw the new frame \n",
    "        \n",
    "def update_particle_locations():\n",
    "    global x, y\n",
    "    angles = perlin(x/35, y/35) * 3\n",
    "    x += np.sin(angles)*0.3\n",
    "    y += np.cos(angles)*0.3\n",
    "\n",
    "stopped = Event()\n",
    "def loop():\n",
    "    while not stopped.wait(0.02): # the first call is in `interval` secs\n",
    "        update_particle_locations()\n",
    "        draw_particles()   \n",
    "Thread(target=loop).start() # Start it by default\n",
    "\n",
    "start_btn = Button(description='Start')\n",
    "def start(btn):\n",
    "    if stopped.isSet():\n",
    "        stopped.clear()\n",
    "        Thread(target=loop).start() \n",
    "start_btn.on_click(start)\n",
    "\n",
    "stop_btn = Button(description='Stop')\n",
    "def stop(btn):\n",
    "    if not stopped.isSet():\n",
    "        stopped.set()\n",
    "stop_btn.on_click(stop)\n",
    "\n",
    "reset_btn = Button(description='Randomize Particles')\n",
    "def reset(btn):\n",
    "    global x, y, size\n",
    "    x = np.array(np.random.rayleigh(250, n_particles))\n",
    "    y = np.array(np.random.rayleigh(250, n_particles))\n",
    "    size = np.random.randint(1, 3, n_particles)\n",
    "    draw_particles()\n",
    "reset_btn.on_click(reset)\n",
    "\n",
    "display(canvas2, HBox([start_btn, stop_btn, reset_btn]))"
   ]
  },
  {
   "cell_type": "markdown",
   "metadata": {},
   "source": [
    "# Conclusions\n",
    "\n",
    "Using threads allows us to create interactive animations that don't block our main thread from executing. This notebook shows one possible way to achieve this - there are alternatives such as the advanced python scheduler or the use of threading.Timer as in [this StackOverflow answer](https://stackoverflow.com/a/13151299). The latter was used in [the notebook](https://johnowhitaker.github.io/days_of_code/Interaction_with_ipycanvas.html) from which this example is derived. Whatever the specifics of the implementation, the core idea is to offload the animation loop to its own thread in some way."
   ]
  }
 ],
 "metadata": {
  "kernelspec": {
   "display_name": "Python 3",
   "language": "python",
   "name": "python3"
  },
  "language_info": {
   "codemirror_mode": {
    "name": "ipython",
    "version": 3
   },
   "file_extension": ".py",
   "mimetype": "text/x-python",
   "name": "python",
   "nbconvert_exporter": "python",
   "pygments_lexer": "ipython3",
   "version": "3.9.2"
  }
 },
 "nbformat": 4,
 "nbformat_minor": 4
}
